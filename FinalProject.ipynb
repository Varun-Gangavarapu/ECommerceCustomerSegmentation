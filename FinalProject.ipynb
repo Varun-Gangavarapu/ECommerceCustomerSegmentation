{
 "cells": [
  {
   "cell_type": "markdown",
   "source": [
    "Postgre Credentials"
   ],
   "metadata": {
    "collapsed": false
   },
   "id": "a651aa229c320ede"
  },
  {
   "cell_type": "code",
   "outputs": [],
   "source": [
    "#Define These For Yourself\n",
    "db_name = \"\"\n",
    "user = \"\"\n",
    "password = \"\"\n",
    "host = \"\"\n",
    "port = \"\"\n",
    "table_name = \"online_retail\"\n",
    "csv_file_path = \"OnlineRetail.csv\""
   ],
   "metadata": {
    "collapsed": false,
    "ExecuteTime": {
     "end_time": "2024-12-12T01:06:56.675358Z",
     "start_time": "2024-12-12T01:06:56.668034Z"
    }
   },
   "id": "1db25db31a74b6a5",
   "execution_count": 19
  },
  {
   "cell_type": "markdown",
   "source": [
    "Imports"
   ],
   "metadata": {
    "collapsed": false
   },
   "id": "9e8a39df0f12b078"
  },
  {
   "cell_type": "code",
   "outputs": [],
   "source": [
    "import pandas as pd\n",
    "from sqlalchemy import create_engine, text\n",
    "from sklearn.cluster import KMeans\n",
    "from sklearn.preprocessing import StandardScaler, MinMaxScaler\n",
    "from sklearn.neighbors import KNeighborsClassifier\n",
    "import matplotlib.pyplot as plt\n",
    "import numpy as np\n",
    "from sklearn.neighbors import KNeighborsClassifier"
   ],
   "metadata": {
    "collapsed": false,
    "ExecuteTime": {
     "end_time": "2024-12-12T00:44:49.016582Z",
     "start_time": "2024-12-12T00:44:49.009730Z"
    }
   },
   "id": "d8980946b1deb7a5",
   "execution_count": 6
  },
  {
   "cell_type": "markdown",
   "source": [
    "Reading CSV and setting up Data"
   ],
   "metadata": {
    "collapsed": false
   },
   "id": "58438ad52c2e96eb"
  },
  {
   "cell_type": "code",
   "outputs": [
    {
     "name": "stdout",
     "output_type": "stream",
     "text": [
      "Data read from CSV (first 5 rows):\n",
      "  InvoiceNo StockCode                          Description  Quantity  \\\n",
      "0    536365    85123A   WHITE HANGING HEART T-LIGHT HOLDER         6   \n",
      "1    536365     71053                  WHITE METAL LANTERN         6   \n",
      "2    536365    84406B       CREAM CUPID HEARTS COAT HANGER         8   \n",
      "3    536365    84029G  KNITTED UNION FLAG HOT WATER BOTTLE         6   \n",
      "4    536365    84029E       RED WOOLLY HOTTIE WHITE HEART.         6   \n",
      "\n",
      "    InvoiceDate  UnitPrice  CustomerID         Country  \n",
      "0  12/1/10 8:26       2.55     17850.0  United Kingdom  \n",
      "1  12/1/10 8:26       3.39     17850.0  United Kingdom  \n",
      "2  12/1/10 8:26       2.75     17850.0  United Kingdom  \n",
      "3  12/1/10 8:26       3.39     17850.0  United Kingdom  \n",
      "4  12/1/10 8:26       3.39     17850.0  United Kingdom  \n",
      "Shape of df_csv: (541909, 8)\n",
      "Number of NaT in InvoiceDate: 0\n"
     ]
    }
   ],
   "source": [
    "df_csv = pd.read_csv(csv_file_path)\n",
    "print(\"Data read from CSV (first 5 rows):\")\n",
    "print(df_csv.head())\n",
    "print(\"Shape of df_csv:\", df_csv.shape)\n",
    "\n",
    "invoice_length = df_csv['InvoiceNo'].astype(str).apply(len).max()\n",
    "stockcode_length = df_csv['StockCode'].astype(str).apply(len).max()\n",
    "customer_ids = df_csv['CustomerID'].dropna().astype(int).astype(str)\n",
    "customerid_length = customer_ids.apply(len).max()\n",
    "\n",
    "invoice_varchar = max(20, invoice_length)\n",
    "stock_varchar = max(20, stockcode_length)\n",
    "customer_varchar = max(20, customerid_length)\n",
    "\n",
    "df_csv['InvoiceDate'] = pd.to_datetime(df_csv['InvoiceDate'], format='%m/%d/%y %H:%M', errors='coerce')\n",
    "print(\"Number of NaT in InvoiceDate:\", df_csv['InvoiceDate'].isna().sum())"
   ],
   "metadata": {
    "collapsed": false,
    "ExecuteTime": {
     "end_time": "2024-12-12T00:44:59.902758Z",
     "start_time": "2024-12-12T00:44:59.072442Z"
    }
   },
   "id": "1134392be82c0413",
   "execution_count": 7
  },
  {
   "cell_type": "markdown",
   "source": [
    "Connecting to Server and Loading Data into Postgre"
   ],
   "metadata": {
    "collapsed": false
   },
   "id": "f95284b11d51c60b"
  },
  {
   "cell_type": "code",
   "outputs": [
    {
     "name": "stdout",
     "output_type": "stream",
     "text": [
      "Table created and truncated successfully.\n",
      "Data loaded into Postgres.\n",
      "Data read back (first 5 rows):\n",
      "  InvoiceNo StockCode                          Description  Quantity  \\\n",
      "0    536365    85123A   WHITE HANGING HEART T-LIGHT HOLDER         6   \n",
      "1    536365     71053                  WHITE METAL LANTERN         6   \n",
      "2    536365    84406B       CREAM CUPID HEARTS COAT HANGER         8   \n",
      "3    536365    84029G  KNITTED UNION FLAG HOT WATER BOTTLE         6   \n",
      "4    536365    84029E       RED WOOLLY HOTTIE WHITE HEART.         6   \n",
      "\n",
      "          InvoiceDate  UnitPrice CustomerID         Country  \n",
      "0 2010-12-01 08:26:00       2.55    17850.0  United Kingdom  \n",
      "1 2010-12-01 08:26:00       3.39    17850.0  United Kingdom  \n",
      "2 2010-12-01 08:26:00       2.75    17850.0  United Kingdom  \n",
      "3 2010-12-01 08:26:00       3.39    17850.0  United Kingdom  \n",
      "4 2010-12-01 08:26:00       3.39    17850.0  United Kingdom  \n",
      "Shape of df: (541909, 8)\n"
     ]
    }
   ],
   "source": [
    "engine = create_engine(f'postgresql://{user}:{password}@{host}:{port}/{db_name}')\n",
    "with engine.begin() as conn:\n",
    "    conn.execute(text(f\"DROP TABLE IF EXISTS {table_name};\"))\n",
    "    conn.execute(text(f\"\"\"\n",
    "    CREATE TABLE {table_name} (\n",
    "        \"InvoiceNo\" VARCHAR({invoice_varchar}),\n",
    "        \"StockCode\" VARCHAR({stock_varchar}),\n",
    "        \"Description\" TEXT,\n",
    "        \"Quantity\" INT,\n",
    "        \"InvoiceDate\" TIMESTAMP,\n",
    "        \"UnitPrice\" NUMERIC(10,4),\n",
    "        \"CustomerID\" VARCHAR({customer_varchar}),\n",
    "        \"Country\" VARCHAR(50)\n",
    "    );\n",
    "    \"\"\"))\n",
    "    conn.execute(text(f\"TRUNCATE {table_name};\"))\n",
    "\n",
    "print(\"Table created and truncated successfully.\")\n",
    "\n",
    "df_csv.to_sql(table_name, engine, if_exists='append', index=False, method='multi')\n",
    "print(\"Data loaded into Postgres.\")\n",
    "\n",
    "df = pd.read_sql(f\"SELECT * FROM {table_name};\", engine)\n",
    "print(\"Data read back (first 5 rows):\")\n",
    "print(df.head())\n",
    "print(\"Shape of df:\", df.shape)"
   ],
   "metadata": {
    "collapsed": false,
    "ExecuteTime": {
     "end_time": "2024-12-12T00:47:15.339686Z",
     "start_time": "2024-12-12T00:46:20.810486Z"
    }
   },
   "id": "c0cf0840d90078fb",
   "execution_count": 8
  },
  {
   "cell_type": "markdown",
   "source": [
    "Preprocessing Data for Recency, Frequency, and Monetary Value"
   ],
   "metadata": {
    "collapsed": false
   },
   "id": "4c5aef8219b6d0ac"
  },
  {
   "cell_type": "code",
   "outputs": [
    {
     "name": "stdout",
     "output_type": "stream",
     "text": [
      "RFM (first 5 rows):\n",
      "  CustomerID  Recency  Frequency  MonetaryValue\n",
      "0    12346.0      325          2           0.00\n",
      "1    12347.0        1          7        4310.00\n",
      "2    12348.0       74          4        1797.24\n",
      "3    12349.0       18          1        1757.55\n",
      "4    12350.0      309          1         334.40\n"
     ]
    }
   ],
   "source": [
    "df = df.dropna(subset=['CustomerID'])  # remove rows without CustomerID\n",
    "df['InvoiceDate'] = pd.to_datetime(df['InvoiceDate'], errors='coerce')\n",
    "snapshot_date = df['InvoiceDate'].max()\n",
    "\n",
    "rfm = df.groupby('CustomerID').agg({\n",
    "    'InvoiceDate': lambda x: (snapshot_date - x.max()).days,\n",
    "    'InvoiceNo': 'nunique',\n",
    "    'Quantity': lambda x: (x * df.loc[x.index, 'UnitPrice']).sum()\n",
    "}).reset_index()\n",
    "\n",
    "rfm.rename(columns={\n",
    "    'InvoiceDate': 'Recency',\n",
    "    'InvoiceNo': 'Frequency',\n",
    "    'Quantity': 'MonetaryValue'\n",
    "}, inplace=True)\n",
    "\n",
    "print(\"RFM (first 5 rows):\")\n",
    "print(rfm.head())"
   ],
   "metadata": {
    "collapsed": false,
    "ExecuteTime": {
     "end_time": "2024-12-12T00:48:37.079266Z",
     "start_time": "2024-12-12T00:48:36.394428Z"
    }
   },
   "id": "158d2ffe219fc396",
   "execution_count": 9
  },
  {
   "cell_type": "markdown",
   "source": [
    "Creating Elbow Method Graph"
   ],
   "metadata": {
    "collapsed": false
   },
   "id": "cbc7db024bdd0880"
  },
  {
   "cell_type": "code",
   "outputs": [
    {
     "data": {
      "text/plain": "<Figure size 800x500 with 1 Axes>",
      "image/png": "[encoded data removed]"
     },
     "metadata": {},
     "output_type": "display_data"
    }
   ],
   "source": [
    "features = rfm[['Recency', 'Frequency', 'MonetaryValue']]\n",
    "\n",
    "wcss = []\n",
    "K_range = range(1, 11)\n",
    "for k in K_range:\n",
    "    kmeans = KMeans(n_clusters=k, random_state=42)\n",
    "    kmeans.fit(features)\n",
    "    wcss.append(kmeans.inertia_)\n",
    "\n",
    "plt.figure(figsize=(8,5))\n",
    "plt.plot(K_range, wcss, marker='o')\n",
    "plt.title('Elbow Method to Determine Optimal k (No Scaling)')\n",
    "plt.xlabel('Number of Clusters (k)')\n",
    "plt.ylabel('WCSS')\n",
    "plt.show()"
   ],
   "metadata": {
    "collapsed": false,
    "ExecuteTime": {
     "end_time": "2024-12-12T00:50:18.192782Z",
     "start_time": "2024-12-12T00:50:17.990619Z"
    }
   },
   "id": "f05e03a0fca5800f",
   "execution_count": 10
  },
  {
   "cell_type": "markdown",
   "source": [
    "Clustering"
   ],
   "metadata": {
    "collapsed": false
   },
   "id": "74d950c5b5ce9f8b"
  },
  {
   "cell_type": "code",
   "outputs": [
    {
     "name": "stdout",
     "output_type": "stream",
     "text": [
      "Cluster Profiles (No Scaling):\n",
      "                     Recency  Frequency  MonetaryValue\n",
      "Cluster_NoScaling                                     \n",
      "0                  91.840841   4.570109    1347.622983\n",
      "1                   7.000000  55.000000  187482.170000\n",
      "2                  12.138889  50.722222   35694.129167\n",
      "3                   8.500000  96.500000  114451.897500\n",
      "4                   0.500000  69.500000  267963.755000\n"
     ]
    }
   ],
   "source": [
    "kmeans_no_scaling = KMeans(n_clusters=5, random_state=42)\n",
    "kmeans_no_scaling.fit(features)\n",
    "rfm['Cluster_NoScaling'] = kmeans_no_scaling.labels_\n",
    "\n",
    "cluster_profiles_no_scale = rfm.groupby('Cluster_NoScaling').agg({\n",
    "    'Recency': 'mean',\n",
    "    'Frequency': 'mean',\n",
    "    'MonetaryValue': 'mean'\n",
    "})\n",
    "\n",
    "print(\"Cluster Profiles (No Scaling):\")\n",
    "print(cluster_profiles_no_scale)\n"
   ],
   "metadata": {
    "collapsed": false,
    "ExecuteTime": {
     "end_time": "2024-12-12T00:52:15.242684Z",
     "start_time": "2024-12-12T00:52:15.225945Z"
    }
   },
   "id": "8b2e0af96b6bf12c",
   "execution_count": 11
  },
  {
   "cell_type": "markdown",
   "source": [
    "Plotting the Clusters"
   ],
   "metadata": {
    "collapsed": false
   },
   "id": "2377885357f2a023"
  },
  {
   "cell_type": "code",
   "outputs": [
    {
     "data": {
      "text/plain": "<Figure size 1000x600 with 1 Axes>",
      "image/png": "[encoded data removed]"
     },
     "metadata": {},
     "output_type": "display_data"
    }
   ],
   "source": [
    "cluster_profiles_no_scale.plot(kind='bar', figsize=(10,6))\n",
    "plt.title('Cluster Profiles (No Scaling)')\n",
    "plt.xlabel('Cluster')\n",
    "plt.ylabel('Average Values')\n",
    "plt.xticks(rotation=0)\n",
    "plt.show()"
   ],
   "metadata": {
    "collapsed": false,
    "ExecuteTime": {
     "end_time": "2024-12-12T00:52:29.939923Z",
     "start_time": "2024-12-12T00:52:29.852935Z"
    }
   },
   "id": "fac21006834b386d",
   "execution_count": 12
  },
  {
   "cell_type": "markdown",
   "source": [
    "Scaling the Data"
   ],
   "metadata": {
    "collapsed": false
   },
   "id": "a8a51a9099ab1f69"
  },
  {
   "cell_type": "code",
   "outputs": [],
   "source": [
    "scaler = StandardScaler()\n",
    "scaled_features = scaler.fit_transform(features)\n",
    "scaled_rfm = pd.DataFrame(scaled_features, columns=['Recency', 'Frequency', 'MonetaryValue'])"
   ],
   "metadata": {
    "collapsed": false,
    "ExecuteTime": {
     "end_time": "2024-12-12T00:52:55.948980Z",
     "start_time": "2024-12-12T00:52:55.943950Z"
    }
   },
   "id": "c19f2e4bec6db001",
   "execution_count": 13
  },
  {
   "cell_type": "markdown",
   "source": [
    "Clustering"
   ],
   "metadata": {
    "collapsed": false
   },
   "id": "da38552aedc7f4c6"
  },
  {
   "cell_type": "code",
   "outputs": [
    {
     "name": "stdout",
     "output_type": "stream",
     "text": [
      "Cluster assignments with scaling:\n",
      "  CustomerID  Cluster\n",
      "0    12346.0        1\n",
      "1    12347.0        3\n",
      "2    12348.0        3\n",
      "3    12349.0        3\n",
      "4    12350.0        1\n",
      "Cluster Profiles (With Scaling):\n",
      "            Recency  Frequency  MonetaryValue\n",
      "Cluster                                      \n",
      "0         13.849315  19.652055    7095.058137\n",
      "1        249.284102   1.799624     454.581384\n",
      "2          5.181818  88.363636   54540.575909\n",
      "3         43.813635   3.756766    1131.842149\n",
      "4          2.666667  64.666667  241136.560000\n"
     ]
    }
   ],
   "source": [
    "kmeans_model = KMeans(n_clusters=5, random_state=42)\n",
    "kmeans_model.fit(scaled_rfm)\n",
    "rfm['Cluster'] = kmeans_model.labels_\n",
    "\n",
    "print(\"Cluster assignments with scaling:\")\n",
    "print(rfm[['CustomerID', 'Cluster']].head())\n",
    "\n",
    "cluster_profiles = rfm.groupby('Cluster').agg({\n",
    "    'Recency': 'mean',\n",
    "    'Frequency': 'mean',\n",
    "    'MonetaryValue': 'mean'\n",
    "})\n",
    "\n",
    "print(\"Cluster Profiles (With Scaling):\")\n",
    "print(cluster_profiles)"
   ],
   "metadata": {
    "collapsed": false,
    "ExecuteTime": {
     "end_time": "2024-12-12T00:53:03.817531Z",
     "start_time": "2024-12-12T00:53:03.787946Z"
    }
   },
   "id": "a2e1bfbfac7a0ba4",
   "execution_count": 14
  },
  {
   "cell_type": "markdown",
   "source": [
    "Plotting the Scaled Clusters"
   ],
   "metadata": {
    "collapsed": false
   },
   "id": "33094300dcfe85a3"
  },
  {
   "cell_type": "code",
   "outputs": [
    {
     "data": {
      "text/plain": "<Figure size 1000x600 with 1 Axes>",
      "image/png": "[encoded data removed]"
     },
     "metadata": {},
     "output_type": "display_data"
    }
   ],
   "source": [
    "minmax_scaler = MinMaxScaler()\n",
    "scaled_values = minmax_scaler.fit_transform(cluster_profiles[['Recency', 'Frequency', 'MonetaryValue']])\n",
    "cluster_profiles_scaled = pd.DataFrame(scaled_values,\n",
    "                                       columns=['Recency', 'Frequency', 'MonetaryValue'],\n",
    "                                       index=cluster_profiles.index)\n",
    "\n",
    "cluster_profiles_scaled.plot(kind='bar', figsize=(10,6))\n",
    "plt.title('Cluster Profiles (Scaled)')\n",
    "plt.xlabel('Cluster')\n",
    "plt.ylabel('Scaled Average Values')\n",
    "plt.xticks(rotation=0)\n",
    "plt.show()"
   ],
   "metadata": {
    "collapsed": false,
    "ExecuteTime": {
     "end_time": "2024-12-12T00:53:45.930638Z",
     "start_time": "2024-12-12T00:53:45.853163Z"
    }
   },
   "id": "1c3504d0c1bc5c35",
   "execution_count": 15
  },
  {
   "cell_type": "markdown",
   "source": [
    "Training K-Nearest Neighbor Model on the Clusters"
   ],
   "metadata": {
    "collapsed": false
   },
   "id": "729777ab485bd74c"
  },
  {
   "cell_type": "code",
   "outputs": [
    {
     "data": {
      "text/plain": "KNeighborsClassifier(weights='distance')",
      "text/html": "<style>#sk-container-id-1 {\n  /* Definition of color scheme common for light and dark mode */\n  --sklearn-color-text: black;\n  --sklearn-color-line: gray;\n  /* Definition of color scheme for unfitted estimators */\n  --sklearn-color-unfitted-level-0: #fff5e6;\n  --sklearn-color-unfitted-level-1: #f6e4d2;\n  --sklearn-color-unfitted-level-2: #ffe0b3;\n  --sklearn-color-unfitted-level-3: chocolate;\n  /* Definition of color scheme for fitted estimators */\n  --sklearn-color-fitted-level-0: #f0f8ff;\n  --sklearn-color-fitted-level-1: #d4ebff;\n  --sklearn-color-fitted-level-2: #b3dbfd;\n  --sklearn-color-fitted-level-3: cornflowerblue;\n\n  /* Specific color for light theme */\n  --sklearn-color-text-on-default-background: var(--sg-text-color, var(--theme-code-foreground, var(--jp-content-font-color1, black)));\n  --sklearn-color-background: var(--sg-background-color, var(--theme-background, var(--jp-layout-color0, white)));\n  --sklearn-color-border-box: var(--sg-text-color, var(--theme-code-foreground, var(--jp-content-font-color1, black)));\n  --sklearn-color-icon: #696969;\n\n  @media (prefers-color-scheme: dark) {\n    /* Redefinition of color scheme for dark theme */\n    --sklearn-color-text-on-default-background: var(--sg-text-color, var(--theme-code-foreground, var(--jp-content-font-color1, white)));\n    --sklearn-color-background: var(--sg-background-color, var(--theme-background, var(--jp-layout-color0, #111)));\n    --sklearn-color-border-box: var(--sg-text-color, var(--theme-code-foreground, var(--jp-content-font-color1, white)));\n    --sklearn-color-icon: #878787;\n  }\n}\n\n#sk-container-id-1 {\n  color: var(--sklearn-color-text);\n}\n\n#sk-container-id-1 pre {\n  padding: 0;\n}\n\n#sk-container-id-1 input.sk-hidden--visually {\n  border: 0;\n  clip: rect(1px 1px 1px 1px);\n  clip: rect(1px, 1px, 1px, 1px);\n  height: 1px;\n  margin: -1px;\n  overflow: hidden;\n  padding: 0;\n  position: absolute;\n  width: 1px;\n}\n\n#sk-container-id-1 div.sk-dashed-wrapped {\n  border: 1px dashed var(--sklearn-color-line);\n  margin: 0 0.4em 0.5em 0.4em;\n  box-sizing: border-box;\n  padding-bottom: 0.4em;\n  background-color: var(--sklearn-color-background);\n}\n\n#sk-container-id-1 div.sk-container {\n  /* jupyter's `normalize.less` sets `[hidden] { display: none; }`\n     but bootstrap.min.css set `[hidden] { display: none !important; }`\n     so we also need the `!important` here to be able to override the\n     default hidden behavior on the sphinx rendered scikit-learn.org.\n     See: https://github.com/scikit-learn/scikit-learn/issues/21755 */\n  display: inline-block !important;\n  position: relative;\n}\n\n#sk-container-id-1 div.sk-text-repr-fallback {\n  display: none;\n}\n\ndiv.sk-parallel-item,\ndiv.sk-serial,\ndiv.sk-item {\n  /* draw centered vertical line to link estimators */\n  background-image: linear-gradient(var(--sklearn-color-text-on-default-background), var(--sklearn-color-text-on-default-background));\n  background-size: 2px 100%;\n  background-repeat: no-repeat;\n  background-position: center center;\n}\n\n/* Parallel-specific style estimator block */\n\n#sk-container-id-1 div.sk-parallel-item::after {\n  content: \"\";\n  width: 100%;\n  border-bottom: 2px solid var(--sklearn-color-text-on-default-background);\n  flex-grow: 1;\n}\n\n#sk-container-id-1 div.sk-parallel {\n  display: flex;\n  align-items: stretch;\n  justify-content: center;\n  background-color: var(--sklearn-color-background);\n  position: relative;\n}\n\n#sk-container-id-1 div.sk-parallel-item {\n  display: flex;\n  flex-direction: column;\n}\n\n#sk-container-id-1 div.sk-parallel-item:first-child::after {\n  align-self: flex-end;\n  width: 50%;\n}\n\n#sk-container-id-1 div.sk-parallel-item:last-child::after {\n  align-self: flex-start;\n  width: 50%;\n}\n\n#sk-container-id-1 div.sk-parallel-item:only-child::after {\n  width: 0;\n}\n\n/* Serial-specific style estimator block */\n\n#sk-container-id-1 div.sk-serial {\n  display: flex;\n  flex-direction: column;\n  align-items: center;\n  background-color: var(--sklearn-color-background);\n  padding-right: 1em;\n  padding-left: 1em;\n}\n\n\n/* Toggleable style: style used for estimator/Pipeline/ColumnTransformer box that is\nclickable and can be expanded/collapsed.\n- Pipeline and ColumnTransformer use this feature and define the default style\n- Estimators will overwrite some part of the style using the `sk-estimator` class\n*/\n\n/* Pipeline and ColumnTransformer style (default) */\n\n#sk-container-id-1 div.sk-toggleable {\n  /* Default theme specific background. It is overwritten whether we have a\n  specific estimator or a Pipeline/ColumnTransformer */\n  background-color: var(--sklearn-color-background);\n}\n\n/* Toggleable label */\n#sk-container-id-1 label.sk-toggleable__label {\n  cursor: pointer;\n  display: block;\n  width: 100%;\n  margin-bottom: 0;\n  padding: 0.5em;\n  box-sizing: border-box;\n  text-align: center;\n}\n\n#sk-container-id-1 label.sk-toggleable__label-arrow:before {\n  /* Arrow on the left of the label */\n  content: \"▸\";\n  float: left;\n  margin-right: 0.25em;\n  color: var(--sklearn-color-icon);\n}\n\n#sk-container-id-1 label.sk-toggleable__label-arrow:hover:before {\n  color: var(--sklearn-color-text);\n}\n\n/* Toggleable content - dropdown */\n\n#sk-container-id-1 div.sk-toggleable__content {\n  max-height: 0;\n  max-width: 0;\n  overflow: hidden;\n  text-align: left;\n  /* unfitted */\n  background-color: var(--sklearn-color-unfitted-level-0);\n}\n\n#sk-container-id-1 div.sk-toggleable__content.fitted {\n  /* fitted */\n  background-color: var(--sklearn-color-fitted-level-0);\n}\n\n#sk-container-id-1 div.sk-toggleable__content pre {\n  margin: 0.2em;\n  border-radius: 0.25em;\n  color: var(--sklearn-color-text);\n  /* unfitted */\n  background-color: var(--sklearn-color-unfitted-level-0);\n}\n\n#sk-container-id-1 div.sk-toggleable__content.fitted pre {\n  /* unfitted */\n  background-color: var(--sklearn-color-fitted-level-0);\n}\n\n#sk-container-id-1 input.sk-toggleable__control:checked~div.sk-toggleable__content {\n  /* Expand drop-down */\n  max-height: 200px;\n  max-width: 100%;\n  overflow: auto;\n}\n\n#sk-container-id-1 input.sk-toggleable__control:checked~label.sk-toggleable__label-arrow:before {\n  content: \"▾\";\n}\n\n/* Pipeline/ColumnTransformer-specific style */\n\n#sk-container-id-1 div.sk-label input.sk-toggleable__control:checked~label.sk-toggleable__label {\n  color: var(--sklearn-color-text);\n  background-color: var(--sklearn-color-unfitted-level-2);\n}\n\n#sk-container-id-1 div.sk-label.fitted input.sk-toggleable__control:checked~label.sk-toggleable__label {\n  background-color: var(--sklearn-color-fitted-level-2);\n}\n\n/* Estimator-specific style */\n\n/* Colorize estimator box */\n#sk-container-id-1 div.sk-estimator input.sk-toggleable__control:checked~label.sk-toggleable__label {\n  /* unfitted */\n  background-color: var(--sklearn-color-unfitted-level-2);\n}\n\n#sk-container-id-1 div.sk-estimator.fitted input.sk-toggleable__control:checked~label.sk-toggleable__label {\n  /* fitted */\n  background-color: var(--sklearn-color-fitted-level-2);\n}\n\n#sk-container-id-1 div.sk-label label.sk-toggleable__label,\n#sk-container-id-1 div.sk-label label {\n  /* The background is the default theme color */\n  color: var(--sklearn-color-text-on-default-background);\n}\n\n/* On hover, darken the color of the background */\n#sk-container-id-1 div.sk-label:hover label.sk-toggleable__label {\n  color: var(--sklearn-color-text);\n  background-color: var(--sklearn-color-unfitted-level-2);\n}\n\n/* Label box, darken color on hover, fitted */\n#sk-container-id-1 div.sk-label.fitted:hover label.sk-toggleable__label.fitted {\n  color: var(--sklearn-color-text);\n  background-color: var(--sklearn-color-fitted-level-2);\n}\n\n/* Estimator label */\n\n#sk-container-id-1 div.sk-label label {\n  font-family: monospace;\n  font-weight: bold;\n  display: inline-block;\n  line-height: 1.2em;\n}\n\n#sk-container-id-1 div.sk-label-container {\n  text-align: center;\n}\n\n/* Estimator-specific */\n#sk-container-id-1 div.sk-estimator {\n  font-family: monospace;\n  border: 1px dotted var(--sklearn-color-border-box);\n  border-radius: 0.25em;\n  box-sizing: border-box;\n  margin-bottom: 0.5em;\n  /* unfitted */\n  background-color: var(--sklearn-color-unfitted-level-0);\n}\n\n#sk-container-id-1 div.sk-estimator.fitted {\n  /* fitted */\n  background-color: var(--sklearn-color-fitted-level-0);\n}\n\n/* on hover */\n#sk-container-id-1 div.sk-estimator:hover {\n  /* unfitted */\n  background-color: var(--sklearn-color-unfitted-level-2);\n}\n\n#sk-container-id-1 div.sk-estimator.fitted:hover {\n  /* fitted */\n  background-color: var(--sklearn-color-fitted-level-2);\n}\n\n/* Specification for estimator info (e.g. \"i\" and \"?\") */\n\n/* Common style for \"i\" and \"?\" */\n\n.sk-estimator-doc-link,\na:link.sk-estimator-doc-link,\na:visited.sk-estimator-doc-link {\n  float: right;\n  font-size: smaller;\n  line-height: 1em;\n  font-family: monospace;\n  background-color: var(--sklearn-color-background);\n  border-radius: 1em;\n  height: 1em;\n  width: 1em;\n  text-decoration: none !important;\n  margin-left: 1ex;\n  /* unfitted */\n  border: var(--sklearn-color-unfitted-level-1) 1pt solid;\n  color: var(--sklearn-color-unfitted-level-1);\n}\n\n.sk-estimator-doc-link.fitted,\na:link.sk-estimator-doc-link.fitted,\na:visited.sk-estimator-doc-link.fitted {\n  /* fitted */\n  border: var(--sklearn-color-fitted-level-1) 1pt solid;\n  color: var(--sklearn-color-fitted-level-1);\n}\n\n/* On hover */\ndiv.sk-estimator:hover .sk-estimator-doc-link:hover,\n.sk-estimator-doc-link:hover,\ndiv.sk-label-container:hover .sk-estimator-doc-link:hover,\n.sk-estimator-doc-link:hover {\n  /* unfitted */\n  background-color: var(--sklearn-color-unfitted-level-3);\n  color: var(--sklearn-color-background);\n  text-decoration: none;\n}\n\ndiv.sk-estimator.fitted:hover .sk-estimator-doc-link.fitted:hover,\n.sk-estimator-doc-link.fitted:hover,\ndiv.sk-label-container:hover .sk-estimator-doc-link.fitted:hover,\n.sk-estimator-doc-link.fitted:hover {\n  /* fitted */\n  background-color: var(--sklearn-color-fitted-level-3);\n  color: var(--sklearn-color-background);\n  text-decoration: none;\n}\n\n/* Span, style for the box shown on hovering the info icon */\n.sk-estimator-doc-link span {\n  display: none;\n  z-index: 9999;\n  position: relative;\n  font-weight: normal;\n  right: .2ex;\n  padding: .5ex;\n  margin: .5ex;\n  width: min-content;\n  min-width: 20ex;\n  max-width: 50ex;\n  color: var(--sklearn-color-text);\n  box-shadow: 2pt 2pt 4pt #999;\n  /* unfitted */\n  background: var(--sklearn-color-unfitted-level-0);\n  border: .5pt solid var(--sklearn-color-unfitted-level-3);\n}\n\n.sk-estimator-doc-link.fitted span {\n  /* fitted */\n  background: var(--sklearn-color-fitted-level-0);\n  border: var(--sklearn-color-fitted-level-3);\n}\n\n.sk-estimator-doc-link:hover span {\n  display: block;\n}\n\n/* \"?\"-specific style due to the `<a>` HTML tag */\n\n#sk-container-id-1 a.estimator_doc_link {\n  float: right;\n  font-size: 1rem;\n  line-height: 1em;\n  font-family: monospace;\n  background-color: var(--sklearn-color-background);\n  border-radius: 1rem;\n  height: 1rem;\n  width: 1rem;\n  text-decoration: none;\n  /* unfitted */\n  color: var(--sklearn-color-unfitted-level-1);\n  border: var(--sklearn-color-unfitted-level-1) 1pt solid;\n}\n\n#sk-container-id-1 a.estimator_doc_link.fitted {\n  /* fitted */\n  border: var(--sklearn-color-fitted-level-1) 1pt solid;\n  color: var(--sklearn-color-fitted-level-1);\n}\n\n/* On hover */\n#sk-container-id-1 a.estimator_doc_link:hover {\n  /* unfitted */\n  background-color: var(--sklearn-color-unfitted-level-3);\n  color: var(--sklearn-color-background);\n  text-decoration: none;\n}\n\n#sk-container-id-1 a.estimator_doc_link.fitted:hover {\n  /* fitted */\n  background-color: var(--sklearn-color-fitted-level-3);\n}\n</style><div id=\"sk-container-id-1\" class=\"sk-top-container\"><div class=\"sk-text-repr-fallback\"><pre>KNeighborsClassifier(weights=&#x27;distance&#x27;)</pre><b>In a Jupyter environment, please rerun this cell to show the HTML representation or trust the notebook. <br />On GitHub, the HTML representation is unable to render, please try loading this page with nbviewer.org.</b></div><div class=\"sk-container\" hidden><div class=\"sk-item\"><div class=\"sk-estimator fitted sk-toggleable\"><input class=\"sk-toggleable__control sk-hidden--visually\" id=\"sk-estimator-id-1\" type=\"checkbox\" checked><label for=\"sk-estimator-id-1\" class=\"sk-toggleable__label fitted sk-toggleable__label-arrow fitted\">&nbsp;&nbsp;KNeighborsClassifier<a class=\"sk-estimator-doc-link fitted\" rel=\"noreferrer\" target=\"_blank\" href=\"https://scikit-learn.org/1.5/modules/generated/sklearn.neighbors.KNeighborsClassifier.html\">?<span>Documentation for KNeighborsClassifier</span></a><span class=\"sk-estimator-doc-link fitted\">i<span>Fitted</span></span></label><div class=\"sk-toggleable__content fitted\"><pre>KNeighborsClassifier(weights=&#x27;distance&#x27;)</pre></div> </div></div></div></div>"
     },
     "execution_count": 16,
     "metadata": {},
     "output_type": "execute_result"
    }
   ],
   "source": [
    "X_train = scaled_rfm.values \n",
    "y_train = rfm['Cluster'].values \n",
    "\n",
    "knn = KNeighborsClassifier(n_neighbors=5, weights='distance')\n",
    "knn.fit(X_train, y_train)\n"
   ],
   "metadata": {
    "collapsed": false,
    "ExecuteTime": {
     "end_time": "2024-12-12T00:56:37.871883Z",
     "start_time": "2024-12-12T00:56:37.864497Z"
    }
   },
   "id": "1339c78115b4b0df",
   "execution_count": 16
  },
  {
   "cell_type": "markdown",
   "source": [
    "Creating Synthetic Data"
   ],
   "metadata": {
    "collapsed": false
   },
   "id": "491dc684b846cacc"
  },
  {
   "cell_type": "code",
   "outputs": [
    {
     "name": "stdout",
     "output_type": "stream",
     "text": [
      "\n",
      "Synthetic Points:\n",
      "   Recency  Frequency  MonetaryValue\n",
      "0       10          2            100\n",
      "1       50         15           1000\n",
      "2       90          7            500\n"
     ]
    }
   ],
   "source": [
    "synthetic_points = pd.DataFrame({\n",
    "    'Recency': [10, 50, 90],\n",
    "    'Frequency': [2, 15, 7],\n",
    "    'MonetaryValue': [100, 1000, 500]\n",
    "})\n",
    "\n",
    "print(\"\\nSynthetic Points:\")\n",
    "print(synthetic_points)"
   ],
   "metadata": {
    "collapsed": false,
    "ExecuteTime": {
     "end_time": "2024-12-12T00:57:06.114841Z",
     "start_time": "2024-12-12T00:57:06.111097Z"
    }
   },
   "id": "ff55af64959eaf6c",
   "execution_count": 17
  },
  {
   "cell_type": "markdown",
   "source": [
    "Scaling Data And Making Predictions"
   ],
   "metadata": {
    "collapsed": false
   },
   "id": "d121d6181643f97b"
  },
  {
   "cell_type": "code",
   "outputs": [
    {
     "name": "stdout",
     "output_type": "stream",
     "text": [
      "\n",
      "Predicted cluster for each synthetic point:\n",
      "[3 0 3]\n"
     ]
    }
   ],
   "source": [
    "synthetic_scaled = scaler.transform(synthetic_points[['Recency', 'Frequency', 'MonetaryValue']])\n",
    "\n",
    "predicted_clusters = knn.predict(synthetic_scaled)\n",
    "\n",
    "print(\"\\nPredicted cluster for each synthetic point:\")\n",
    "print(predicted_clusters)"
   ],
   "metadata": {
    "collapsed": false,
    "ExecuteTime": {
     "end_time": "2024-12-12T00:57:12.304233Z",
     "start_time": "2024-12-12T00:57:12.298320Z"
    }
   },
   "id": "3ce56bace461a8b8",
   "execution_count": 18
  },
  {
   "cell_type": "code",
   "outputs": [],
   "source": [],
   "metadata": {
    "collapsed": false,
    "ExecuteTime": {
     "end_time": "2024-12-10T02:47:15.496424Z",
     "start_time": "2024-12-10T02:47:15.494861Z"
    }
   },
   "id": "dfcaca683c908be3",
   "execution_count": 26
  },
  {
   "cell_type": "code",
   "outputs": [],
   "source": [],
   "metadata": {
    "collapsed": false
   },
   "id": "c0cb85c1e03d7492"
  }
 ],
 "metadata": {
  "kernelspec": {
   "display_name": "Python 3",
   "language": "python",
   "name": "python3"
  },
  "language_info": {
   "codemirror_mode": {
    "name": "ipython",
    "version": 2
   },
   "file_extension": ".py",
   "mimetype": "text/x-python",
   "name": "python",
   "nbconvert_exporter": "python",
   "pygments_lexer": "ipython2",
   "version": "2.7.6"
  }
 },
 "nbformat": 4,
 "nbformat_minor": 5
}
